{
 "cells": [
  {
   "attachments": {},
   "cell_type": "markdown",
   "metadata": {},
   "source": [
    "# **Matplotlib**"
   ]
  },
  {
   "cell_type": "code",
   "execution_count": null,
   "metadata": {},
   "outputs": [],
   "source": [
    "import matplotlib.pyplot as plt # importing the Matplotlib Library\n",
    "import numpy as np # importing the NumPy Library\n",
    "import pandas as pd # importing the Pandas Library"
   ]
  },
  {
   "attachments": {},
   "cell_type": "markdown",
   "metadata": {},
   "source": [
    "#### **Line Graphs**"
   ]
  },
  {
   "cell_type": "code",
   "execution_count": null,
   "metadata": {},
   "outputs": [],
   "source": [
    "x = [1, 2, 3]\n",
    "y = [4, 5, 6]\n",
    "\n",
    "plt.plot(x, y) # plot() function is used to draw points (markers) in a diagram\n",
    "plt.show() # show() function displays the current figure that is being worked upon"
   ]
  },
  {
   "cell_type": "code",
   "execution_count": null,
   "metadata": {},
   "outputs": [],
   "source": [
    "x = [1, 2, 3]\n",
    "y = [6, 4, 5]\n",
    "\n",
    "plt.plot(x, y)\n",
    "\n",
    "plt.xlabel('X - Axis', fontdict = {'fontname': 'Arial', 'fontsize': 10, 'fontweight': 'bold'}) # xlabel() function sets the label for the X - Axis\n",
    "plt.ylabel('Y - Axis', fontdict = {'fontname': 'Arial', 'fontsize': 10, 'fontweight': 'bold'}) # ylabel() function sets the label for the Y - Axis\n",
    "\n",
    "# title() function adds a title to the graph\n",
    "plt.title('First Graph', fontdict = {'fontname': 'Arial', 'fontsize': 15, 'fontweight': 'bold'}) # fontdict is a dictionary controlling the appearance of the title text\n",
    "plt.show()"
   ]
  },
  {
   "cell_type": "code",
   "execution_count": null,
   "metadata": {},
   "outputs": [],
   "source": [
    "x = [1, 5, 2]\n",
    "y = [4, 6, 3]\n",
    "\n",
    "plt.plot(x, y)\n",
    "\n",
    "plt.xlabel('X - Axis', fontdict = {'fontname': 'Arial', 'fontsize': 10, 'fontweight': 'bold'})\n",
    "plt.ylabel('Y - Axis', fontdict = {'fontname': 'Arial', 'fontsize': 10, 'fontweight': 'bold'})\n",
    "\n",
    "plt.xticks([1, 2, 3, 4, 5, 6, 7]) # xticks() function is used to get or set the current tick locations and labels of the X - Axis\n",
    "plt.yticks([1, 2, 3, 4, 5, 6, 7]) # yticks() function is used to get or set the current tick locations and labels of the Y - Axis\n",
    "\n",
    "plt.title('Second Graph', fontdict = {'fontname': 'Arial', 'fontsize': 15, 'fontweight': 'bold'})\n",
    "plt.show()"
   ]
  },
  {
   "cell_type": "code",
   "execution_count": null,
   "metadata": {},
   "outputs": [],
   "source": [
    "x = [1, 2, 3, 4, 5]\n",
    "y = [2, 4, 6, 8, 10]\n",
    "\n",
    "plt.plot(x, y, label = 'y = 2x', color = 'black', linestyle = '--', linewidth = 3)\n",
    "# label is used to set label for the axes\n",
    "# color is used to change the color of the plot\n",
    "# linestyle is used to format the design of the line\n",
    "# linewidth is used to format the weight of the plot\n",
    "\n",
    "plt.xlabel('X - Axis', fontdict = {'fontname': 'Arial', 'fontsize': 10, 'fontweight': 'bold'})\n",
    "plt.ylabel('Y - Axis', fontdict = {'fontname': 'Arial', 'fontsize': 10, 'fontweight': 'bold'})\n",
    "plt.title('Third Graph', fontdict = {'fontname': 'Arial', 'fontsize': 15, 'fontweight': 'bold'})\n",
    "\n",
    "plt.legend() # legend() function is used to place a legend on the axes\n",
    "plt.show()"
   ]
  },
  {
   "cell_type": "code",
   "execution_count": null,
   "metadata": {},
   "outputs": [],
   "source": [
    "x = [1, 3, 5, 7, 9]\n",
    "y = [2, 4, 6, 3, 8]\n",
    "\n",
    "plt.plot(x, y, color = 'black', linestyle = '--', linewidth = 3, marker = '.', markersize = 10, markeredgecolor = 'yellow')\n",
    "# marker adds a marker to the co-ordinates\n",
    "# markersize controls the weight of the marker\n",
    "# markeredgecolor controls the color at the edge of a marker\n",
    "\n",
    "plt.xlabel('X - Axis', fontdict = {'fontname': 'Arial', 'fontsize': 10, 'fontweight': 'bold'})\n",
    "plt.ylabel('Y - Axis', fontdict = {'fontname': 'Arial', 'fontsize': 10, 'fontweight': 'bold'})\n",
    "plt.title('Fourth Graph', fontdict = {'fontname': 'Arial', 'fontsize': 15, 'fontweight': 'bold'})\n",
    "\n",
    "plt.xticks([1, 2, 3, 4, 5, 6, 7, 8, 9, 10])\n",
    "plt.yticks([1, 2, 3, 4, 5, 6, 7, 8, 9, 10])\n",
    "\n",
    "plt.show()"
   ]
  },
  {
   "cell_type": "code",
   "execution_count": null,
   "metadata": {},
   "outputs": [],
   "source": [
    "x = [1, 5, 3, 2, 6]\n",
    "y = [7, 4, 9, 10, 8]\n",
    "\n",
    "# Format Strings\n",
    "# format string consists of a part for color, marker and line\n",
    "# fmt = '[marker][line][color]'\n",
    "plt.plot(x, y, '*--r') # here fmt = '*--r'\n",
    "\n",
    "plt.xlabel('X - Axis', fontdict = {'fontname': 'Arial', 'fontsize': 10, 'fontweight': 'bold'})\n",
    "plt.ylabel('Y - Axis', fontdict = {'fontname': 'Arial', 'fontsize': 10, 'fontweight': 'bold'})\n",
    "plt.title('Fifth Graph', fontdict = {'fontname': 'Arial', 'fontsize': 15, 'fontweight': 'bold'})\n",
    "\n",
    "plt.xticks([1, 2, 3, 4, 5, 6, 7])\n",
    "plt.yticks([1, 2, 3, 4, 5, 6, 7, 8, 9, 10])\n",
    "\n",
    "plt.show()"
   ]
  },
  {
   "cell_type": "code",
   "execution_count": null,
   "metadata": {},
   "outputs": [],
   "source": [
    "x = [0, 2, 4, 6]\n",
    "y = [1, 3, 5, 7]\n",
    "\n",
    "plt.plot(x, y, color = 'Black', linewidth = 2, linestyle = '--', marker = '.', markersize = 10)\n",
    "\n",
    "x2 = np.arange(0, 5.5, 0.5)\n",
    "plt.plot(x2, x2 ** 2, color = 'Red', linewidth = 2, marker = '.', markersize = 10)\n",
    "\n",
    "plt.xlabel('X - Axis', fontdict = {'fontname': 'Arial', 'fontsize': 10, 'fontweight': 'bold'})\n",
    "plt.ylabel('Y - Axis', fontdict = {'fontname': 'Arial', 'fontsize': 10, 'fontweight': 'bold'})\n",
    "plt.title('Sixth Graph', fontdict = {'fontname': 'Arial', 'fontsize': 15, 'fontweight': 'bold'})\n",
    "\n",
    "plt.show()"
   ]
  },
  {
   "cell_type": "code",
   "execution_count": null,
   "metadata": {},
   "outputs": [],
   "source": [
    "x = [0, 2, 4, 6]\n",
    "y = [1, 3, 5, 7]\n",
    "\n",
    "plt.figure(figsize = (7, 7), dpi = 100) # figure() function is used to resize the graph dimensions\n",
    "\n",
    "plt.plot(x, y, color = 'black', linewidth = 2, linestyle = '--', marker = '.', markersize = 10)\n",
    "\n",
    "x2 = np.arange(0, 5.5, 0.5)\n",
    "plt.plot(x2[:7], x2[:7] ** 2, color = 'Red', linewidth = 2, marker = '.', markersize = 10) # co-ordinate slicing\n",
    "plt.plot(x2[4:], x2[4:] ** 2, color = 'Red', linewidth = 2, linestyle = '--', marker = '.', markersize = 10) # co-ordinate slicing\n",
    "\n",
    "plt.xlabel('X - Axis', fontdict = {'fontname': 'Arial', 'fontsize': 10, 'fontweight': 'bold'})\n",
    "plt.ylabel('Y - Axis', fontdict = {'fontname': 'Arial', 'fontsize': 10, 'fontweight': 'bold'})\n",
    "plt.title('Seventh Graph', fontdict = {'fontname': 'Arial', 'fontsize': 15, 'fontweight': 'bold'})\n",
    "\n",
    "plt.show()"
   ]
  },
  {
   "attachments": {},
   "cell_type": "markdown",
   "metadata": {},
   "source": [
    "#### **Bar Graphs**"
   ]
  },
  {
   "cell_type": "code",
   "execution_count": null,
   "metadata": {},
   "outputs": [],
   "source": [
    "labels = ['A', 'B', 'C']\n",
    "values = [1, 3, 5]\n",
    "\n",
    "plt.figure(figsize = (5, 5), dpi = 100) # figure() function is used to resize the bar graph dimensions\n",
    "\n",
    "plt.bar(labels, values) # bar() function takes arguments that describes the layout of the bars\n",
    "plt.show() # show() function displays the current figure that is being worked upon"
   ]
  },
  {
   "cell_type": "code",
   "execution_count": null,
   "metadata": {},
   "outputs": [],
   "source": [
    "labels = ['A', 'B', 'C']\n",
    "values = [1, 3, 5]\n",
    "\n",
    "bar = plt.bar(labels, values) # bar() function takes arguments that describes the layout of the bars\n",
    "\n",
    "# hatches are styles added to a bar graph to make it unique\n",
    "# set_hatch() function sets the hatch design on the bar \n",
    "# hatches = ['/', '\\\\', '|', '-', '+', 'x', 'o', 'O', '.', '*']\n",
    "bar[0].set_hatch('/')\n",
    "bar[1].set_hatch('*')\n",
    "bar[2].set_hatch('O')\n",
    "plt.show() # show() function displays the current figure that is being worked upon"
   ]
  },
  {
   "cell_type": "code",
   "execution_count": null,
   "metadata": {},
   "outputs": [],
   "source": [
    "labels = ['A', 'B', 'C']\n",
    "values = [1, 3, 5]\n",
    "\n",
    "bars = plt.bar(labels, values) # bar() function takes arguments that describes the layout of the bars\n",
    "\n",
    "# hatches = ['/', '\\\\', '|', '-', '+', 'x', 'o', 'O', '.', '*']\n",
    "# user defined function for using hatches\n",
    "pattern = ['.', '+', 'x']\n",
    "for bar in bars:\n",
    "    bar.set_hatch(pattern.pop(0))\n",
    "\n",
    "plt.show() # show() function displays the current figure that is being worked upon"
   ]
  }
 ],
 "metadata": {
  "kernelspec": {
   "display_name": "base",
   "language": "python",
   "name": "python3"
  },
  "language_info": {
   "codemirror_mode": {
    "name": "ipython",
    "version": 3
   },
   "file_extension": ".py",
   "mimetype": "text/x-python",
   "name": "python",
   "nbconvert_exporter": "python",
   "pygments_lexer": "ipython3",
   "version": "3.11.3"
  },
  "orig_nbformat": 4
 },
 "nbformat": 4,
 "nbformat_minor": 2
}
