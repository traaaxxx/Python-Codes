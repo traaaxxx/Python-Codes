{
 "cells": [
  {
   "attachments": {},
   "cell_type": "markdown",
   "metadata": {},
   "source": [
    "# **Seaborn**"
   ]
  },
  {
   "cell_type": "code",
   "execution_count": null,
   "metadata": {},
   "outputs": [],
   "source": [
    "import numpy as np # importing the NumPy Library\n",
    "import pandas as pd # importing the Pandas Library\n",
    "import matplotlib.pyplot as plt # importing the Matplotlib Library\n",
    "import seaborn as sns # importing the Seaborn Library"
   ]
  },
  {
   "attachments": {},
   "cell_type": "markdown",
   "metadata": {},
   "source": [
    "#### **Line Plot**"
   ]
  },
  {
   "cell_type": "code",
   "execution_count": null,
   "metadata": {},
   "outputs": [],
   "source": [
    "sample = sns.load_dataset('penguins') #load_dataset() function loads an example dataset from the online repository\n",
    "plt.figure(figsize = (12, 8), dpi = 100)\n",
    "\n",
    "sns.lineplot(x = \"bill_length_mm\", y = \"bill_depth_mm\", data = sample, hue = 'sex', style = 'sex', palette = 'icefire', markers = [\"o\", \"o\"], dashes = False,\n",
    "             legend = \"full\")\n",
    "# x, y are the variables that specify positions on the x and y axes\n",
    "# data is the input data structure\n",
    "# hue is used to group a variable that will produce lines with different colors\n",
    "# size is used to group a variable that will produce lines with different widths\n",
    "# style is used to group variable that will produce lines with different dashes and/or markers\n",
    "# palette is a method for choosing the colors to use when mapping the hue semantic\n",
    "# markers adds a marker to the co-ordinates\n",
    "# dashes are the objects determining how to draw the lines for different levels of the style variable\n",
    "# legend parameter enables or disables the legend\n",
    "\n",
    "plt.xlabel('Bill Length (in mm)', fontdict = {'fontname': 'Arial', 'color': 'black', 'fontsize': 15, 'fontweight': 'bold'})\n",
    "plt.ylabel('Bill Depth (in mm)', fontdict = {'fontname': 'Arial', 'color': 'black', 'fontsize': 15, 'fontweight': 'bold'})\n",
    "plt.grid() #grid() function is responsible to show grid lines in a graph\n",
    "plt.title(\"Antarctic Penguin's Bill Size\", fontdict = {'fontname': 'Times New Roman', 'color': 'black', 'fontsize': 20, 'fontweight': 'bold'})\n",
    "\n",
    "plt.show()"
   ]
  },
  {
   "attachments": {},
   "cell_type": "markdown",
   "metadata": {},
   "source": [
    "#### **Bar Plot**"
   ]
  },
  {
   "cell_type": "code",
   "execution_count": null,
   "metadata": {},
   "outputs": [],
   "source": [
    "sample = sns.load_dataset('penguins')\n",
    "plt.figure(figsize = (10, 6), dpi = 100)\n",
    "\n",
    "order = [\"Biscoe\", \"Dream\", \"Torgersen\"]\n",
    "sns.barplot(x = \"island\", y = \"bill_length_mm\", data = sample, hue = \"sex\", palette = 'spring', saturation = 1, errcolor = \"black\", errwidth = 3, order = order, \n",
    "            hue_order = [\"Male\", \"Female\"], capsize = 0.3)\n",
    "# x, y, hue are the inputs for plotting long-form data\n",
    "# order, hue_order are the order to plot the categorical levels in; otherwise the levels are inferred from the data objects\n",
    "# ci is used to calculate 95% confidence interval of a data\n",
    "# n_boot is the number of bootstrap samples used to compute confidence intervals\n",
    "# color is used to add colors for the elements in the plot\n",
    "# palette is a method for choosing the colors to use when mapping the hue semantic\n",
    "# saturation manages the proportion of the original saturation to draw colors at\n",
    "# errcolor is the color used for the error bar lines\n",
    "# errwidth manages the thickness of the error bar lines\n",
    "# capsize is the width of the caps on error bars\n",
    "# dodge is the amount to separate the points for each level of the 'hue' variable along the categorical axis\n",
    "\n",
    "plt.xlabel('Island', fontdict = {'fontname': 'Arial', 'color': 'black', 'fontsize': 13, 'fontweight': 'bold'})\n",
    "plt.ylabel('Bill Length (in mm)', fontdict = {'fontname': 'Arial', 'color': 'black', 'fontsize': 13, 'fontweight': 'bold'})\n",
    "plt.title(\"Bill Length of Penguins in different Islands\", fontdict = {'fontname': 'Times New Roman', 'color': 'black', 'fontsize': 18, 'fontweight': 'bold'})\n",
    "\n",
    "plt.show()"
   ]
  },
  {
   "cell_type": "code",
   "execution_count": null,
   "metadata": {},
   "outputs": [],
   "source": [
    "sample = sns.load_dataset('penguins')\n",
    "plt.figure(figsize = (10, 6), dpi = 100)\n",
    "\n",
    "sns.barplot(x = \"bill_length_mm\", y = \"bill_depth_mm\", data = sample, orient = \"h\")\n",
    "# orient manages the orientation of the plot (vertical or horizontal) (x and y must be numeric values)\n",
    "\n",
    "plt.xlabel('Bill Length (in mm)', fontdict = {'fontname': 'Arial', 'color': 'black', 'fontsize': 13, 'fontweight': 'bold'})\n",
    "plt.ylabel('Bill Depth (in mm)', fontdict = {'fontname': 'Arial', 'color': 'black', 'fontsize': 13, 'fontweight': 'bold'})\n",
    "plt.title(\"Antarctic Penguin's Bill Size\", fontdict = {'fontname': 'Times New Roman', 'color': 'black', 'fontsize': 18, 'fontweight': 'bold'})\n",
    "\n",
    "plt.show()"
   ]
  },
  {
   "cell_type": "markdown",
   "metadata": {},
   "source": [
    "#### **Histogram**"
   ]
  },
  {
   "cell_type": "code",
   "execution_count": null,
   "metadata": {},
   "outputs": [],
   "source": [
    "sample = sns.load_dataset('penguins')\n",
    "plt.figure(figsize = (10, 6), dpi = 100)\n",
    "\n",
    "sns.displot(sample[\"flipper_length_mm\"], bins = [170, 180, 190, 200, 210, 220, 230, 240], kde = True, color = \"black\")\n",
    "# bins parameter controls the bins of the histogram (i.e., the number of bars)\n",
    "# Kernel Density Estimation (KDE) is a way to estimate the probability density function of a continuous random variable\n",
    "# rug if True, shows each observation with marginal ticks\n",
    "# color is used to specify single color specification for when hue mapping is not used\n",
    "# log_scale sets axis scale(s) to log\n",
    "\n",
    "plt.xlabel('Flipper Length (in mm)', fontdict = {'fontname': 'Arial', 'color': 'black', 'fontsize': 13, 'fontweight': 'bold'})\n",
    "plt.ylabel('Count', fontdict = {'fontname': 'Arial', 'color': 'black', 'fontsize': 13, 'fontweight': 'bold'})\n",
    "plt.title(\"Antarctic Penguin's Flipper Length\", fontdict = {'fontname': 'Times New Roman', 'color': 'black', 'fontsize': 18, 'fontweight': 'bold'})\n",
    "\n",
    "plt.show()"
   ]
  },
  {
   "cell_type": "markdown",
   "metadata": {},
   "source": [
    "#### **Scatter Plot**"
   ]
  },
  {
   "cell_type": "code",
   "execution_count": null,
   "metadata": {},
   "outputs": [],
   "source": [
    "sample = sns.load_dataset('penguins')\n",
    "plt.figure(figsize = (10, 6), dpi = 100)\n",
    "\n",
    "sns.scatterplot(x = \"bill_length_mm\", y = \"bill_depth_mm\", data = sample, hue = \"sex\", style = \"sex\", size = \"sex\", sizes = (20, 20), palette = 'icefire')\n",
    "# hue is the grouping of variables that will produce points with different colors\n",
    "# style is the grouping of variables that will produce points with different markers\n",
    "# size is the grouping of variables that will produce points with different sizes\n",
    "# sizes is an object that determines how sizes are chosen when size parameter is used\n",
    "# markers modifies the markers for different levels of the style variable\n",
    "# palette is the method for choosing the colors to use when mapping the hue semantic\n",
    "# alpha manages the alpha/opacity of the color\n",
    "\n",
    "plt.xlabel('Bill Length (in mm)', fontdict = {'fontname': 'Arial', 'color': 'black', 'fontsize': 15, 'fontweight': 'bold'})\n",
    "plt.ylabel('Bill Depth (in mm)', fontdict = {'fontname': 'Arial', 'color': 'black', 'fontsize': 15, 'fontweight': 'bold'})\n",
    "plt.title(\"Antarctic Penguin's Bill Size\", fontdict = {'fontname': 'Times New Roman', 'color': 'black', 'fontsize': 20, 'fontweight': 'bold'})\n",
    "\n",
    "plt.show()"
   ]
  }
 ],
 "metadata": {
  "kernelspec": {
   "display_name": "base",
   "language": "python",
   "name": "python3"
  },
  "language_info": {
   "codemirror_mode": {
    "name": "ipython",
    "version": 3
   },
   "file_extension": ".py",
   "mimetype": "text/x-python",
   "name": "python",
   "nbconvert_exporter": "python",
   "pygments_lexer": "ipython3",
   "version": "3.11.3"
  },
  "orig_nbformat": 4
 },
 "nbformat": 4,
 "nbformat_minor": 2
}
